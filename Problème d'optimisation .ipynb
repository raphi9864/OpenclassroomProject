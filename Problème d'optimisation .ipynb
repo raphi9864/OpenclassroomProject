{
  "nbformat": 4,
  "nbformat_minor": 0,
  "metadata": {
    "colab": {
      "provenance": [],
      "authorship_tag": "ABX9TyN9REZrUWCtfQy2pjZy+H/7",
      "include_colab_link": true
    },
    "kernelspec": {
      "name": "python3",
      "display_name": "Python 3"
    },
    "language_info": {
      "name": "python"
    }
  },
  "cells": [
    {
      "cell_type": "markdown",
      "metadata": {
        "id": "view-in-github",
        "colab_type": "text"
      },
      "source": [
        "<a href=\"https://colab.research.google.com/github/raphi9864/OpenclassroomProject/blob/main/Probl%C3%A8me%20d'optimisation%20.ipynb\" target=\"_parent\"><img src=\"https://colab.research.google.com/assets/colab-badge.svg\" alt=\"Open In Colab\"/></a>"
      ]
    },
    {
      "cell_type": "markdown",
      "source": [
        "#Decision Problem\n",
        "\n",
        "##Input Data:\n",
        "\n",
        "A set of cities $V$ = {$ v1$,$ v2$, ...,$ vn$}.\n",
        "\n",
        "A graph $G$ = ($V$, $E$) where $E$ represents the edges (connections) between the cities.\n",
        "\n",
        "###Question:\n",
        "\n",
        "Is there a tour that starts at a city $vn$, visits each city in $V$, and returns to the starting point $vn$?\n",
        "\n",
        "###Explanation:\n",
        "\n",
        "This problem is known as the Traveling Salesman Problem (TSP) in its decision form. The question here is to determine whether there exists a valid tour that starts and ends at a specific city (here $vn$) and visits each city exactly once. This is a classic problem in graph theory and theoretical computer science.\n",
        "\n",
        "#Optimization\n",
        "##Problem\n",
        "\n",
        "###Input Data:\n",
        "\n",
        "A set of cities $V$ = {$ v1$, $v2$, ..., $vn$}.\n",
        "A graph $G$ = ($V$, $E$) where $E$ represents the edges (connections) between the cities.\n",
        "\n",
        "An adjacency matrix $D$ where $Dij$ represents the distance between cities $vi$ and $vj$.\n",
        "\n",
        "###Question:\n",
        "\n",
        "What is the smallest distance of the tour of length $k$ that visits each city $vn$ in $V$, returning to the starting point $vn$?\n",
        "\n",
        "###Explanation:\n",
        "\n",
        "This problem is the optimization version of the Traveling Salesman Problem. Here, it is not enough to determine if a tour exists; rather, the goal is to find the tour with the minimum length that starts and ends at a specific city (here $vn$) and visits each city exactly once. The length $k$ here refers to the total distance of this optimal tour. The adjacency matrix $D$ is used to calculate the distances between cities and find the optimal solution."
      ],
      "metadata": {
        "id": "DbcUnVxzxiVg"
      }
    }
  ]
}